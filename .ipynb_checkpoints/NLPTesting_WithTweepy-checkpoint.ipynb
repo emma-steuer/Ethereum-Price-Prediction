{
 "cells": [
  {
   "cell_type": "code",
   "execution_count": 1,
   "id": "18936741-2c5d-4794-9aeb-1f9bbec2761e",
   "metadata": {},
   "outputs": [],
   "source": [
    "# Sentiment from Twitter by hour using Tweepy"
   ]
  },
  {
   "cell_type": "code",
   "execution_count": 2,
   "id": "da99686b-d33e-4426-8560-a925eec13e1a",
   "metadata": {},
   "outputs": [],
   "source": [
    "#import packages\n",
    "import tweepy\n",
    "from textblob import TextBlob\n",
    "import pandas as pd\n",
    "import numpy as np\n",
    "import re\n",
    "import matplotlib.pyplot as plt\n",
    "import random\n",
    "plt.style.use('fivethirtyeight')\n",
    "from nltk.stem import WordNetLemmatizer\n",
    "lemmatizer = WordNetLemmatizer()"
   ]
  },
  {
   "cell_type": "code",
   "execution_count": 3,
   "id": "70b21047-7a18-4642-bad2-6036a94e6038",
   "metadata": {},
   "outputs": [],
   "source": [
    "#login information (I'm leaving my information here for you so you can see some results)\n",
    "access_token = \"1448049630336495626-UTXGDJvG2tYwObL3GiKuCDn06NGKuF\"\n",
    "access_token_secret = \"iehIEbRoAkUBiQ0P3lQ1Q1WIGUjJdUozNwval5nqYQ5OE\"\n",
    "consumer_key = \"3mB0VjEwpURcIJKeeJWJr6tDr\"\n",
    "consumer_secret = \"pYQ7cDGRPVoZZlMg14pvxKIfSbhcsxzGj4JjX9XT6JjBpjLULr\""
   ]
  },
  {
   "cell_type": "code",
   "execution_count": 4,
   "id": "93273c30-d43e-4ff5-b63b-8665f839cf76",
   "metadata": {},
   "outputs": [],
   "source": [
    "#authenticate\n",
    "authenticate = tweepy.OAuthHandler(consumer_key, consumer_secret) \n",
    "#set the access token and the access token secret\n",
    "authenticate.set_access_token(access_token, access_token_secret)\n",
    "#create the API object\n",
    "api = tweepy.API(authenticate, wait_on_rate_limit=True)"
   ]
  },
  {
   "cell_type": "code",
   "execution_count": 5,
   "id": "34dbcec8-98a1-402b-913c-da90275aa6f6",
   "metadata": {},
   "outputs": [],
   "source": [
    "#gather 200 tweets about ethereum and filter out any retweets\n",
    "search_term = \"#ethereum -filter:retweets\"\n",
    "#create a curser object\n",
    "tweets = tweepy.Cursor(api.search_30_day, q=search_term, lang='en', tweet_mode='extended').items(200)"
   ]
  },
  {
   "cell_type": "code",
   "execution_count": 6,
   "id": "b6cae547-c336-43b2-b53a-2028995c0c9c",
   "metadata": {},
   "outputs": [],
   "source": [
    "#create a function to clean the tweets\n",
    "def clean_tweet(tweet):\n",
    "    tweet = tweet.lower()\n",
    "    tweet = re.sub('#ethereum', 'ethereum', tweet) \n",
    "    tweet = re.sub('#[A-Za-z0-9]+', '', tweet) \n",
    "    tweet = re.sub('\\\\n', '', tweet)\n",
    "    tweet = re.sub('https?:\\/\\/\\S+', '', tweet) \n",
    "    tweet = re.sub('@[^\\s]+','',tweet) \n",
    "    tweet = lemmatizer.lemmatize(tweet)\n",
    "    return tweet"
   ]
  },
  {
   "cell_type": "code",
   "execution_count": 7,
   "id": "97d95e0f-8b2d-4dfd-8cea-3b4067aba145",
   "metadata": {},
   "outputs": [],
   "source": [
    "#create a function to get the text sentiment based on polarity\n",
    "def get_sentiment(score):\n",
    "    if score < 0:\n",
    "        return 'Negative'\n",
    "    elif score == 0:\n",
    "        return 'Neutral'\n",
    "    else:\n",
    "        return 'Positive'"
   ]
  },
  {
   "cell_type": "code",
   "execution_count": 8,
   "id": "fb517256-db9b-405b-bd69-9fca62a54ea0",
   "metadata": {},
   "outputs": [],
   "source": [
    "#create a function to get information about the tweets and store as a list\n",
    "output = []\n",
    "for tweet in tweets:\n",
    "    all_tweets = tweet.full_text\n",
    "    creation_date = tweet.created_at\n",
    "    cleaned_tweets = clean_tweet(all_tweets)\n",
    "    tweet_subjectivity = TextBlob(cleaned_tweets).sentiment.subjectivity\n",
    "    tweet_polarity = TextBlob(cleaned_tweets).sentiment.polarity\n",
    "    tweet_sentiment = get_sentiment(tweet_polarity)\n",
    "    line = {'Text' : all_tweets, 'Cleaned Tweets' : cleaned_tweets, 'Date' : creation_date, 'Subjectivity' : tweet_subjectivity, 'Polarity'\n",
    "           : tweet_polarity, 'Sentiment' : tweet_sentiment}\n",
    "    output.append(line)"
   ]
  },
  {
   "cell_type": "code",
   "execution_count": 9,
   "id": "8747189f-38e4-4487-abeb-5b9bc661648f",
   "metadata": {},
   "outputs": [
    {
     "data": {
      "text/html": [
       "<div>\n",
       "<style scoped>\n",
       "    .dataframe tbody tr th:only-of-type {\n",
       "        vertical-align: middle;\n",
       "    }\n",
       "\n",
       "    .dataframe tbody tr th {\n",
       "        vertical-align: top;\n",
       "    }\n",
       "\n",
       "    .dataframe thead th {\n",
       "        text-align: right;\n",
       "    }\n",
       "</style>\n",
       "<table border=\"1\" class=\"dataframe\">\n",
       "  <thead>\n",
       "    <tr style=\"text-align: right;\">\n",
       "      <th></th>\n",
       "      <th>Text</th>\n",
       "      <th>Cleaned Tweets</th>\n",
       "      <th>Date</th>\n",
       "      <th>Subjectivity</th>\n",
       "      <th>Polarity</th>\n",
       "      <th>Sentiment</th>\n",
       "    </tr>\n",
       "  </thead>\n",
       "  <tbody>\n",
       "    <tr>\n",
       "      <th>195</th>\n",
       "      <td>Who's your favourite #NFT artist right now? 👨‍...</td>\n",
       "      <td>who's your favourite  artist right now? 👨‍🎨   ...</td>\n",
       "      <td>2021-11-23 23:54:10+00:00</td>\n",
       "      <td>0.535714</td>\n",
       "      <td>0.285714</td>\n",
       "      <td>Positive</td>\n",
       "    </tr>\n",
       "    <tr>\n",
       "      <th>196</th>\n",
       "      <td>#NFT from @EvelyneHuet1 : « When I speak to my...</td>\n",
       "      <td>from  : « when i speak to myself kindly » (0....</td>\n",
       "      <td>2021-11-23 23:54:09+00:00</td>\n",
       "      <td>0.900000</td>\n",
       "      <td>0.600000</td>\n",
       "      <td>Positive</td>\n",
       "    </tr>\n",
       "    <tr>\n",
       "      <th>197</th>\n",
       "      <td>Requesting faucet funds into 0x4419857fbd83E89...</td>\n",
       "      <td>requesting faucet funds into 0x4419857fbd83e89...</td>\n",
       "      <td>2021-11-23 23:53:26+00:00</td>\n",
       "      <td>0.000000</td>\n",
       "      <td>0.000000</td>\n",
       "      <td>Neutral</td>\n",
       "    </tr>\n",
       "    <tr>\n",
       "      <th>198</th>\n",
       "      <td>#DOT time to shineee 💵💵\\n\\n#Ethereum #LTC\\n#cr...</td>\n",
       "      <td>time to shineee 💵💵ethereum</td>\n",
       "      <td>2021-11-23 23:52:56+00:00</td>\n",
       "      <td>0.000000</td>\n",
       "      <td>0.000000</td>\n",
       "      <td>Neutral</td>\n",
       "    </tr>\n",
       "    <tr>\n",
       "      <th>199</th>\n",
       "      <td>Look what I found! JAMES 22.3 collectible http...</td>\n",
       "      <td>look what i found! james 22.3 collectible   et...</td>\n",
       "      <td>2021-11-23 23:52:34+00:00</td>\n",
       "      <td>0.800000</td>\n",
       "      <td>-0.500000</td>\n",
       "      <td>Negative</td>\n",
       "    </tr>\n",
       "  </tbody>\n",
       "</table>\n",
       "</div>"
      ],
      "text/plain": [
       "                                                  Text  \\\n",
       "195  Who's your favourite #NFT artist right now? 👨‍...   \n",
       "196  #NFT from @EvelyneHuet1 : « When I speak to my...   \n",
       "197  Requesting faucet funds into 0x4419857fbd83E89...   \n",
       "198  #DOT time to shineee 💵💵\\n\\n#Ethereum #LTC\\n#cr...   \n",
       "199  Look what I found! JAMES 22.3 collectible http...   \n",
       "\n",
       "                                        Cleaned Tweets  \\\n",
       "195  who's your favourite  artist right now? 👨‍🎨   ...   \n",
       "196   from  : « when i speak to myself kindly » (0....   \n",
       "197  requesting faucet funds into 0x4419857fbd83e89...   \n",
       "198     time to shineee 💵💵ethereum                       \n",
       "199  look what i found! james 22.3 collectible   et...   \n",
       "\n",
       "                         Date  Subjectivity  Polarity Sentiment  \n",
       "195 2021-11-23 23:54:10+00:00      0.535714  0.285714  Positive  \n",
       "196 2021-11-23 23:54:09+00:00      0.900000  0.600000  Positive  \n",
       "197 2021-11-23 23:53:26+00:00      0.000000  0.000000   Neutral  \n",
       "198 2021-11-23 23:52:56+00:00      0.000000  0.000000   Neutral  \n",
       "199 2021-11-23 23:52:34+00:00      0.800000 -0.500000  Negative  "
      ]
     },
     "execution_count": 9,
     "metadata": {},
     "output_type": "execute_result"
    }
   ],
   "source": [
    "#create a data frame with the information about the tweets\n",
    "df = pd.DataFrame(output)"
   ]
  },
  {
   "cell_type": "code",
   "execution_count": 10,
   "id": "24f52968-a76f-40a7-af16-9879280103be",
   "metadata": {},
   "outputs": [
    {
     "data": {
      "image/png": "[encoded data removed]",
      "text/plain": [
       "<Figure size 432x288 with 1 Axes>"
      ]
     },
     "metadata": {},
     "output_type": "display_data"
    }
   ],
   "source": [
    "#create a line plot showing subjectivity each hour\n",
    "lines = df.plot.line(x='Date', y='Subjectivity', color='pink')"
   ]
  }
 ],
 "metadata": {
  "kernelspec": {
   "display_name": "Python 3",
   "language": "python",
   "name": "python3"
  },
  "language_info": {
   "codemirror_mode": {
    "name": "ipython",
    "version": 3
   },
   "file_extension": ".py",
   "mimetype": "text/x-python",
   "name": "python",
   "nbconvert_exporter": "python",
   "pygments_lexer": "ipython3",
   "version": "3.8.8"
  }
 },
 "nbformat": 4,
 "nbformat_minor": 5
}
