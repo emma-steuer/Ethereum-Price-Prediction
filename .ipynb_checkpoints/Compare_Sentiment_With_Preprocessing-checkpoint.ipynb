{
 "cells": [
  {
   "cell_type": "code",
   "execution_count": 1,
   "id": "53b2ea1a-1a15-430b-9dee-76c5966df672",
   "metadata": {},
   "outputs": [],
   "source": [
    "# Use random forest regression to predict crypto price behavior based on Tweet sentiment (with added text preprocessing)"
   ]
  },
  {
   "cell_type": "code",
   "execution_count": 2,
   "id": "b6e81e72-7151-4bb1-ad51-0e9bdca3b193",
   "metadata": {},
   "outputs": [],
   "source": [
    "# import packages\n",
    "import snscrape.modules.twitter as sntwitter\n",
    "import pandas as pd\n",
    "from nltk.stem import WordNetLemmatizer\n",
    "lemmatizer = WordNetLemmatizer()\n",
    "import re\n",
    "from textblob import TextBlob\n",
    "import numpy as np\n",
    "import matplotlib.pyplot as plt\n",
    "from sklearn.ensemble import RandomForestRegressor\n",
    "import requests\n",
    "from datetime import datetime, timedelta\n",
    "from sklearn import metrics\n",
    "from sklearn.model_selection import train_test_split\n",
    "from nltk.corpus import stopwords\n",
    "from nltk.stem import SnowballStemmer, WordNetLemmatizer\n",
    "from nltk.tokenize import RegexpTokenizer\n",
    "from textblob import TextBlob\n",
    "from nltk.tokenize import word_tokenize"
   ]
  },
  {
   "cell_type": "code",
   "execution_count": 3,
   "id": "2785e8af-4aa6-4efa-926e-6f2a87665a40",
   "metadata": {},
   "outputs": [],
   "source": [
    "# initializing preprocessing variables\n",
    "stop_words = stopwords.words(\"english\")\n",
    "stemmer = SnowballStemmer(\"english\", ignore_stopwords=True)\n",
    "lemmatizer = WordNetLemmatizer()"
   ]
  },
  {
   "cell_type": "code",
   "execution_count": 4,
   "id": "da6c4727-0624-4f62-9b43-dba563a9e89f",
   "metadata": {},
   "outputs": [],
   "source": [
    "# create a function to remove emojis\n",
    "def no_emojis(tweet):\n",
    "    regrex_pattern = re.compile(pattern = \"[\"\n",
    "        u\"\\U0001F600-\\U0001F64F\"  # emoticons\n",
    "        u\"\\U0001F300-\\U0001F5FF\"  # symbols & pictographs\n",
    "        u\"\\U0001F680-\\U0001F6FF\"  # transport & map symbols\n",
    "        u\"\\U0001F1E0-\\U0001F1FF\"  # flags (iOS)\n",
    "                           \"]+\", flags = re.UNICODE)\n",
    "    return regrex_pattern.sub(r' ',tweet)"
   ]
  },
  {
   "cell_type": "code",
   "execution_count": 5,
   "id": "c147bb84-4d96-4029-a0cc-6d3cebd0a355",
   "metadata": {},
   "outputs": [],
   "source": [
    "#create a function to clean the tweets\n",
    "def clean_tweet(tweet):\n",
    "    tweet = tweet.lower() #removes capitalization\n",
    "    tweet = re.sub('#ethereum', 'ethereum', tweet) #changes #ethereum to ethereum\n",
    "    tweet = re.sub('#[A-Za-z0-9]+', '', tweet) #removes any other string that comes after a hashtag\n",
    "    tweet = re.sub('\\\\n', '', tweet) #removes the newline character\n",
    "    tweet = re.sub('https?:\\/\\/\\S+', '', tweet) #removes hyperlinks\n",
    "    tweet = re.sub('@[^\\s]+','',tweet) #removes usernames\n",
    "    tweet = no_emojis(tweet) #removes emojis\n",
    "    tweet = word_tokenize(tweet) #tokenizes the tweets\n",
    "    tweet = [lemmatizer.lemmatize(t) for t in tweet if t not in stop_words] #lemmatizes the tweets\n",
    "    tweet = ' '.join([stemmer.stem(i) for i in tweet]) #stems the tweets and joins them in a string\n",
    "    return tweet"
   ]
  },
  {
   "cell_type": "code",
   "execution_count": 6,
   "id": "29336972-a5c5-4872-8290-8c751e92a13c",
   "metadata": {},
   "outputs": [],
   "source": [
    "#create a function to get the text sentiment based on polarity\n",
    "def get_sentiment(score):\n",
    "    if score < 0:\n",
    "        return 'Negative'\n",
    "    elif score == 0:\n",
    "        return 'Neutral'\n",
    "    else:\n",
    "        return 'Positive'"
   ]
  },
  {
   "cell_type": "code",
   "execution_count": 7,
   "id": "7975d7d3-6a9c-4a6e-a364-0234de1e16d3",
   "metadata": {},
   "outputs": [],
   "source": [
    "# Creating list to append tweet data to\n",
    "tweets = []\n",
    "def run_the_tweets(tweet):\n",
    "    cleaned_tweets = clean_tweet(tweet.content)\n",
    "    tweet_subjectivity = TextBlob(cleaned_tweets).sentiment.subjectivity\n",
    "    tweet_polarity = TextBlob(cleaned_tweets).sentiment.polarity\n",
    "    sentiment_score = get_sentiment(tweet_polarity)\n",
    "    tweets.append([tweet.content, tweet.date, cleaned_tweets, sentiment_score, tweet_subjectivity, tweet_polarity])"
   ]
  },
  {
   "cell_type": "code",
   "execution_count": 8,
   "id": "824dea6f-f2bf-4719-93a7-b9abec4a1719",
   "metadata": {},
   "outputs": [],
   "source": [
    "# Using TwitterSearchScraper to scrape data and append tweets to list\n",
    "today = datetime.now() + timedelta(hours=5) # add 5 hours to today to match UTC time zone\n",
    "first_date = today - timedelta(days=30)\n",
    "first_date = first_date.strftime('%Y-%m-%d')\n",
    "second_date = today - timedelta(days=29)\n",
    "second_date = second_date.strftime('%Y-%m-%d')\n",
    "for x in range(31):\n",
    "    for i,tweet in enumerate(sntwitter.TwitterSearchScraper('ethereum exclude:retweets lang:en since:'+first_date+' until:'+second_date).get_items()):\n",
    "        if i>10:\n",
    "            break\n",
    "        run_the_tweets(tweet)\n",
    "    first_date = datetime.strptime(first_date, '%Y-%m-%d') + timedelta(days=1)\n",
    "    first_date = first_date.strftime('%Y-%m-%d')\n",
    "    second_date = datetime.strptime(second_date, '%Y-%m-%d') + timedelta(days=1)\n",
    "    second_date = second_date.strftime('%Y-%m-%d')\n"
   ]
  },
  {
   "cell_type": "code",
   "execution_count": 9,
   "id": "5e188361-ab9f-4365-bdc1-0adf7289d8fb",
   "metadata": {},
   "outputs": [],
   "source": [
    "# Creating a data frame from the tweets list above\n",
    "tweets = pd.DataFrame(tweets, columns=['Text', 'Date', 'Cleaned Tweets', 'Sentiment', 'Subjectivity', 'Polarity'])"
   ]
  },
  {
   "cell_type": "code",
   "execution_count": 10,
   "id": "268ef57d-ffa2-41d8-924f-4c62fb3fd499",
   "metadata": {},
   "outputs": [
    {
     "data": {
      "text/html": [
       "<div>\n",
       "<style scoped>\n",
       "    .dataframe tbody tr th:only-of-type {\n",
       "        vertical-align: middle;\n",
       "    }\n",
       "\n",
       "    .dataframe tbody tr th {\n",
       "        vertical-align: top;\n",
       "    }\n",
       "\n",
       "    .dataframe thead th {\n",
       "        text-align: right;\n",
       "    }\n",
       "</style>\n",
       "<table border=\"1\" class=\"dataframe\">\n",
       "  <thead>\n",
       "    <tr style=\"text-align: right;\">\n",
       "      <th></th>\n",
       "      <th>Text</th>\n",
       "      <th>Date</th>\n",
       "      <th>Cleaned Tweets</th>\n",
       "      <th>Sentiment</th>\n",
       "      <th>Subjectivity</th>\n",
       "      <th>Polarity</th>\n",
       "    </tr>\n",
       "  </thead>\n",
       "  <tbody>\n",
       "    <tr>\n",
       "      <th>0</th>\n",
       "      <td>@Afanetty1 Take a look at @BlockbotsNFT... onl...</td>\n",
       "      <td>2021-11-03 23:59:46+00:00</td>\n",
       "      <td>take look total 2969 genesi exist .. check ama...</td>\n",
       "      <td>Positive</td>\n",
       "      <td>0.633333</td>\n",
       "      <td>0.100000</td>\n",
       "    </tr>\n",
       "    <tr>\n",
       "      <th>1</th>\n",
       "      <td>1: Bitcoin price is $62963.32 (0.12% 1h)\\n2: E...</td>\n",
       "      <td>2021-11-03 23:59:21+00:00</td>\n",
       "      <td>1 : bitcoin price $ 62963.32 ( 0.12 % 1h ) 2 :...</td>\n",
       "      <td>Neutral</td>\n",
       "      <td>0.000000</td>\n",
       "      <td>0.000000</td>\n",
       "    </tr>\n",
       "    <tr>\n",
       "      <th>2</th>\n",
       "      <td>Ethereum Miner Revenue Outpaces Bitcoin In 202...</td>\n",
       "      <td>2021-11-03 23:59:14+00:00</td>\n",
       "      <td>ethereum miner revenu outpac bitcoin 2021 ethe...</td>\n",
       "      <td>Neutral</td>\n",
       "      <td>0.000000</td>\n",
       "      <td>0.000000</td>\n",
       "    </tr>\n",
       "    <tr>\n",
       "      <th>3</th>\n",
       "      <td>Ethereum Clears New All-Time High As Market Re...</td>\n",
       "      <td>2021-11-03 23:59:12+00:00</td>\n",
       "      <td>ethereum clear new all-tim high market remain ...</td>\n",
       "      <td>Positive</td>\n",
       "      <td>0.459293</td>\n",
       "      <td>0.132121</td>\n",
       "    </tr>\n",
       "    <tr>\n",
       "      <th>4</th>\n",
       "      <td>DesertAnt found #ethereum in a User vault at t...</td>\n",
       "      <td>2021-11-03 23:59:06+00:00</td>\n",
       "      <td>desert found ethereum user vault locat ! join ...</td>\n",
       "      <td>Neutral</td>\n",
       "      <td>0.000000</td>\n",
       "      <td>0.000000</td>\n",
       "    </tr>\n",
       "    <tr>\n",
       "      <th>...</th>\n",
       "      <td>...</td>\n",
       "      <td>...</td>\n",
       "      <td>...</td>\n",
       "      <td>...</td>\n",
       "      <td>...</td>\n",
       "      <td>...</td>\n",
       "    </tr>\n",
       "    <tr>\n",
       "      <th>336</th>\n",
       "      <td>Top 10 Coins by Social volume over the last 24...</td>\n",
       "      <td>2021-12-03 01:24:01+00:00</td>\n",
       "      <td>top 10 coin social volum last 24 hr ! $ btc $ ...</td>\n",
       "      <td>Positive</td>\n",
       "      <td>0.211111</td>\n",
       "      <td>0.177778</td>\n",
       "    </tr>\n",
       "    <tr>\n",
       "      <th>337</th>\n",
       "      <td>Deg Ape shorted Ethereum at $4200 and posted a...</td>\n",
       "      <td>2021-12-03 01:23:52+00:00</td>\n",
       "      <td>deg ape short ethereum $ 4200 post follow -</td>\n",
       "      <td>Neutral</td>\n",
       "      <td>0.300000</td>\n",
       "      <td>0.000000</td>\n",
       "    </tr>\n",
       "    <tr>\n",
       "      <th>338</th>\n",
       "      <td>#MononokeInu Listed in Top10 CEX in few days. ...</td>\n",
       "      <td>2021-12-03 01:23:44+00:00</td>\n",
       "      <td>list top10 cex day . 🤩 guess ? ? ? 🧐 ethereum</td>\n",
       "      <td>Neutral</td>\n",
       "      <td>0.000000</td>\n",
       "      <td>0.000000</td>\n",
       "    </tr>\n",
       "    <tr>\n",
       "      <th>339</th>\n",
       "      <td>@laurenforsterr @rokindo_ @fettuccineNFT @99an...</td>\n",
       "      <td>2021-12-03 01:23:22+00:00</td>\n",
       "      <td>much miss ethereum gas fee !</td>\n",
       "      <td>Positive</td>\n",
       "      <td>0.200000</td>\n",
       "      <td>0.250000</td>\n",
       "    </tr>\n",
       "    <tr>\n",
       "      <th>340</th>\n",
       "      <td>@_PolygonStudios @11MinutesNFT @0xPolygon Good...</td>\n",
       "      <td>2021-12-03 01:23:19+00:00</td>\n",
       "      <td>good see p2e project join polygon 's network ....</td>\n",
       "      <td>Negative</td>\n",
       "      <td>0.466667</td>\n",
       "      <td>-0.033333</td>\n",
       "    </tr>\n",
       "  </tbody>\n",
       "</table>\n",
       "<p>341 rows × 6 columns</p>\n",
       "</div>"
      ],
      "text/plain": [
       "                                                  Text  \\\n",
       "0    @Afanetty1 Take a look at @BlockbotsNFT... onl...   \n",
       "1    1: Bitcoin price is $62963.32 (0.12% 1h)\\n2: E...   \n",
       "2    Ethereum Miner Revenue Outpaces Bitcoin In 202...   \n",
       "3    Ethereum Clears New All-Time High As Market Re...   \n",
       "4    DesertAnt found #ethereum in a User vault at t...   \n",
       "..                                                 ...   \n",
       "336  Top 10 Coins by Social volume over the last 24...   \n",
       "337  Deg Ape shorted Ethereum at $4200 and posted a...   \n",
       "338  #MononokeInu Listed in Top10 CEX in few days. ...   \n",
       "339  @laurenforsterr @rokindo_ @fettuccineNFT @99an...   \n",
       "340  @_PolygonStudios @11MinutesNFT @0xPolygon Good...   \n",
       "\n",
       "                         Date  \\\n",
       "0   2021-11-03 23:59:46+00:00   \n",
       "1   2021-11-03 23:59:21+00:00   \n",
       "2   2021-11-03 23:59:14+00:00   \n",
       "3   2021-11-03 23:59:12+00:00   \n",
       "4   2021-11-03 23:59:06+00:00   \n",
       "..                        ...   \n",
       "336 2021-12-03 01:24:01+00:00   \n",
       "337 2021-12-03 01:23:52+00:00   \n",
       "338 2021-12-03 01:23:44+00:00   \n",
       "339 2021-12-03 01:23:22+00:00   \n",
       "340 2021-12-03 01:23:19+00:00   \n",
       "\n",
       "                                        Cleaned Tweets Sentiment  \\\n",
       "0    take look total 2969 genesi exist .. check ama...  Positive   \n",
       "1    1 : bitcoin price $ 62963.32 ( 0.12 % 1h ) 2 :...   Neutral   \n",
       "2    ethereum miner revenu outpac bitcoin 2021 ethe...   Neutral   \n",
       "3    ethereum clear new all-tim high market remain ...  Positive   \n",
       "4    desert found ethereum user vault locat ! join ...   Neutral   \n",
       "..                                                 ...       ...   \n",
       "336  top 10 coin social volum last 24 hr ! $ btc $ ...  Positive   \n",
       "337        deg ape short ethereum $ 4200 post follow -   Neutral   \n",
       "338      list top10 cex day . 🤩 guess ? ? ? 🧐 ethereum   Neutral   \n",
       "339                       much miss ethereum gas fee !  Positive   \n",
       "340  good see p2e project join polygon 's network ....  Negative   \n",
       "\n",
       "     Subjectivity  Polarity  \n",
       "0        0.633333  0.100000  \n",
       "1        0.000000  0.000000  \n",
       "2        0.000000  0.000000  \n",
       "3        0.459293  0.132121  \n",
       "4        0.000000  0.000000  \n",
       "..            ...       ...  \n",
       "336      0.211111  0.177778  \n",
       "337      0.300000  0.000000  \n",
       "338      0.000000  0.000000  \n",
       "339      0.200000  0.250000  \n",
       "340      0.466667 -0.033333  \n",
       "\n",
       "[341 rows x 6 columns]"
      ]
     },
     "execution_count": 10,
     "metadata": {},
     "output_type": "execute_result"
    }
   ],
   "source": [
    "# looking at data frame\n",
    "tweets"
   ]
  },
  {
   "cell_type": "code",
   "execution_count": null,
   "id": "ec86254e-6211-4f68-b8fe-3ed5b1068739",
   "metadata": {},
   "outputs": [],
   "source": []
  },
  {
   "cell_type": "code",
   "execution_count": 11,
   "id": "87253b6a-f128-4dd4-9046-435bc06f8ddc",
   "metadata": {},
   "outputs": [
    {
     "data": {
      "image/png": "[encoded data removed]",
      "text/plain": [
       "<Figure size 432x288 with 1 Axes>"
      ]
     },
     "metadata": {
      "needs_background": "light"
     },
     "output_type": "display_data"
    }
   ],
   "source": [
    "# graphing polarity of tweets over 30 days\n",
    "sentiment_graph = tweets.plot.line(x='Date', y='Polarity', color='pink')"
   ]
  },
  {
   "cell_type": "code",
   "execution_count": 12,
   "id": "27a9379b-acca-4fbd-a105-5db5e07aea04",
   "metadata": {},
   "outputs": [],
   "source": [
    "# create a new data frame with only polarity and grouping the remaining number values\n",
    "polarity = tweets.drop('Subjectivity', 1)\n",
    "sentiment = polarity.set_index('Date').groupby(pd.Grouper(freq='d')).mean()"
   ]
  },
  {
   "cell_type": "code",
   "execution_count": 13,
   "id": "c83deb04-cdd6-4995-a72d-214b5fac7609",
   "metadata": {},
   "outputs": [],
   "source": [
    "# calling the Crypto Compare API to return Ethereum prices for the last 30 days\n",
    "def get_crypto_price(symbol, exchange, day):\n",
    "    api_key = 'eeda2dcaa0edbb8bd14f77f682c79e556d34af4e17099c41261c49bc125c9c3b'\n",
    "    api_url = f'https://min-api.cryptocompare.com/data/v2/histoday?fsym={symbol}&tsym={exchange}&limit={day}&api_key={api_key}'\n",
    "    raw = requests.get(api_url).json()\n",
    "    df = pd.DataFrame(raw['Data']['Data'])[['time', 'close']].set_index('time')\n",
    "    df.index = pd.to_datetime(df.index, unit = 's')\n",
    "    return df\n",
    "#create a data frame with the prices\n",
    "eth = get_crypto_price('ETH', 'USD', 30)"
   ]
  },
  {
   "cell_type": "code",
   "execution_count": 14,
   "id": "70774e16-a8a9-4424-a662-867289375c76",
   "metadata": {},
   "outputs": [
    {
     "data": {
      "image/png": "[encoded data removed]",
      "text/plain": [
       "<Figure size 432x288 with 1 Axes>"
      ]
     },
     "metadata": {
      "needs_background": "light"
     },
     "output_type": "display_data"
    }
   ],
   "source": [
    "#graph the prices\n",
    "line_graph = eth.plot.line(color='pink')"
   ]
  },
  {
   "cell_type": "code",
   "execution_count": 15,
   "id": "e948d73d-c1e2-4cf6-a982-652965f3edcc",
   "metadata": {},
   "outputs": [],
   "source": [
    "#creating new Ethereum price dataframe with the correct timezone\n",
    "eth1 = eth.copy()\n",
    "eth1.index = eth.index.tz_localize('UTC')"
   ]
  },
  {
   "cell_type": "code",
   "execution_count": 16,
   "id": "aa86fd60-58db-4bac-a6ee-c5252afd7f37",
   "metadata": {},
   "outputs": [],
   "source": [
    "# create an empty data frame with a list of dates as index starting on the current date \n",
    "today = datetime.now() + timedelta(hours=5) #adding 5 hours to match UTC time zone\n",
    "month_ago = today - timedelta(days = 30)\n",
    "today = today.strftime('%Y-%m-%d')\n",
    "month_ago = month_ago.strftime('%Y-%m-%d')\n",
    "df = pd.date_range(month_ago, today)"
   ]
  },
  {
   "cell_type": "code",
   "execution_count": 17,
   "id": "42590060-7d3c-48d4-8eea-a9f0d500c9c6",
   "metadata": {},
   "outputs": [],
   "source": [
    "# combining dataframe values\n",
    "combined_df = pd.DataFrame({'Date': df[0], 'Polarity' : sentiment['Polarity'], 'Close Price' : eth1['close']})"
   ]
  },
  {
   "cell_type": "code",
   "execution_count": 18,
   "id": "5c797132-9891-44dc-86db-6f61cd732506",
   "metadata": {},
   "outputs": [],
   "source": [
    "# setting up a random forest regression model\n",
    "x = combined_df.iloc[:, 1:2].values \n",
    "y = combined_df.iloc[:, 2].values\n",
    "regressor = RandomForestRegressor(n_estimators = 200, random_state = 0)\n",
    "regressor.fit(x, y)  \n",
    "X_train, X_test, y_train, y_test = train_test_split(x, y, test_size=0.2, random_state=0)\n",
    "Y_pred1 =regressor.predict(X_test)"
   ]
  },
  {
   "cell_type": "code",
   "execution_count": 19,
   "id": "1804dee6-9084-4864-ae7d-d595ec91a4f2",
   "metadata": {},
   "outputs": [
    {
     "data": {
      "image/png": "[encoded data removed]",
      "text/plain": [
       "<Figure size 432x288 with 1 Axes>"
      ]
     },
     "metadata": {
      "needs_background": "light"
     },
     "output_type": "display_data"
    }
   ],
   "source": [
    "#plot the preojected and real data for the regression model\n",
    "Y_pred = regressor.predict(np.array([6.5]).reshape(1, 1))\n",
    "X_grid = np.arange(min(x), max(x), 0.01)             \n",
    "X_grid = X_grid.reshape((len(X_grid), 1))\n",
    "plt.scatter(x, y, color = 'pink')  \n",
    "plt.plot(X_grid, regressor.predict(X_grid), \n",
    "         color = 'purple') \n",
    "plt.title('Random Forest Regression')\n",
    "plt.xlabel('Polarity')\n",
    "plt.ylabel('Coin Price')\n",
    "plt.show()"
   ]
  },
  {
   "cell_type": "code",
   "execution_count": 31,
   "id": "70d85068-d70a-4980-a4f2-55d070dabe90",
   "metadata": {},
   "outputs": [
    {
     "name": "stdout",
     "output_type": "stream",
     "text": [
      "Mean Absolute Error: 52.01373571428238\n",
      "Mean Squared Error: 3879.513774515788\n",
      "Root Mean Squared Error: 62.28574294744976\n",
      "Error rate: 1.4155850669874948 %\n"
     ]
    }
   ],
   "source": [
    "#printing error data\n",
    "print('Mean Absolute Error:', metrics.mean_absolute_error(y_test, Y_pred1))\n",
    "print('Mean Squared Error:', metrics.mean_squared_error(y_test, Y_pred1))\n",
    "print('Root Mean Squared Error:', np.sqrt(metrics.mean_squared_error(y_test, Y_pred1)))\n",
    "print('Error rate:', ((np.sqrt(metrics.mean_squared_error(y_test, Y_pred1)) / (4400)) * 100), '%')"
   ]
  }
 ],
 "metadata": {
  "kernelspec": {
   "display_name": "Python 3",
   "language": "python",
   "name": "python3"
  },
  "language_info": {
   "codemirror_mode": {
    "name": "ipython",
    "version": 3
   },
   "file_extension": ".py",
   "mimetype": "text/x-python",
   "name": "python",
   "nbconvert_exporter": "python",
   "pygments_lexer": "ipython3",
   "version": "3.8.8"
  }
 },
 "nbformat": 4,
 "nbformat_minor": 5
}
